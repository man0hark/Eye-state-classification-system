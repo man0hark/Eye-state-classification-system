{
  "cells": [
    {
      "cell_type": "code",
      "execution_count": null,
      "metadata": {
        "id": "tmSWeh8lJfex"
      },
      "outputs": [],
      "source": [
        "import pandas as pd\n",
        "import numpy as np\n",
        "import matplotlib.pyplot as plt\n",
        "import seaborn as sns\n",
        "\n",
        "\n",
        "from sklearn.metrics import plot_confusion_matrix\n",
        "from sklearn.metrics import precision_score\n",
        "from sklearn.metrics import recall_score\n",
        "from sklearn.metrics import confusion_matrix\n",
        "from sklearn.model_selection import train_test_split\n",
        "\n",
        "\n",
        "from sklearn.discriminant_analysis import LinearDiscriminantAnalysis\n",
        "from sklearn.discriminant_analysis import QuadraticDiscriminantAnalysis\n",
        "from sklearn.neighbors import KNeighborsClassifier\n",
        "from sklearn.linear_model import LogisticRegression\n",
        "from sklearn.tree import DecisionTreeClassifier\n",
        "from sklearn.ensemble import GradientBoostingClassifier\n",
        "from sklearn.ensemble import RandomForestClassifier\n",
        "from sklearn.svm import SVC\n",
        "from sklearn.neural_network import MLPClassifier\n",
        "\n",
        "\n",
        "from sklearn.preprocessing import MinMaxScaler\n",
        "from sklearn.preprocessing import LabelEncoder\n",
        "lb_make = LabelEncoder()\n",
        "\n",
        "\n",
        "from sklearn.metrics import roc_auc_score\n",
        "from sklearn.metrics import roc_curve\n"
      ]
    },
    {
      "cell_type": "code",
      "execution_count": null,
      "metadata": {
        "id": "aX4o_9nIJfe3"
      },
      "outputs": [],
      "source": [
        "# load the dataset\n",
        "column_list = ['AF3','F7','F3','FC5','T7','P7','O1','O2','P8','T8','FC6','F4','F8','AF4','class']\n",
        "feat_list = ['AF3','F7','F3','FC5','T7','P7','O1','O2','P8','T8','FC6','F4','F8','AF4']\n",
        "data = pd.read_csv('iqr.csv')"
      ]
    },
    {
      "cell_type": "code",
      "execution_count": null,
      "metadata": {
        "id": "DraGTWkJJfe4",
        "outputId": "7ce32b42-ea62-4bdd-c160-cfcd22138629"
      },
      "outputs": [
        {
          "data": {
            "text/html": [
              "<div>\n",
              "<style scoped>\n",
              "    .dataframe tbody tr th:only-of-type {\n",
              "        vertical-align: middle;\n",
              "    }\n",
              "\n",
              "    .dataframe tbody tr th {\n",
              "        vertical-align: top;\n",
              "    }\n",
              "\n",
              "    .dataframe thead th {\n",
              "        text-align: right;\n",
              "    }\n",
              "</style>\n",
              "<table border=\"1\" class=\"dataframe\">\n",
              "  <thead>\n",
              "    <tr style=\"text-align: right;\">\n",
              "      <th></th>\n",
              "      <th>AF3</th>\n",
              "      <th>F7</th>\n",
              "      <th>F3</th>\n",
              "      <th>FC5</th>\n",
              "      <th>T7</th>\n",
              "      <th>P7</th>\n",
              "      <th>O1</th>\n",
              "      <th>O2</th>\n",
              "      <th>P8</th>\n",
              "      <th>T8</th>\n",
              "      <th>FC6</th>\n",
              "      <th>F4</th>\n",
              "      <th>F8</th>\n",
              "      <th>AF4</th>\n",
              "      <th>class</th>\n",
              "    </tr>\n",
              "  </thead>\n",
              "  <tbody>\n",
              "    <tr>\n",
              "      <th>0</th>\n",
              "      <td>4329.23</td>\n",
              "      <td>4009.23</td>\n",
              "      <td>4289.23</td>\n",
              "      <td>4148.21</td>\n",
              "      <td>4350.26</td>\n",
              "      <td>4586.15</td>\n",
              "      <td>4096.92</td>\n",
              "      <td>4641.03</td>\n",
              "      <td>4222.05</td>\n",
              "      <td>4238.46</td>\n",
              "      <td>4211.28</td>\n",
              "      <td>4280.51</td>\n",
              "      <td>4635.90</td>\n",
              "      <td>4393.85</td>\n",
              "      <td>0</td>\n",
              "    </tr>\n",
              "    <tr>\n",
              "      <th>1</th>\n",
              "      <td>4324.62</td>\n",
              "      <td>4004.62</td>\n",
              "      <td>4293.85</td>\n",
              "      <td>4148.72</td>\n",
              "      <td>4342.05</td>\n",
              "      <td>4586.67</td>\n",
              "      <td>4097.44</td>\n",
              "      <td>4638.97</td>\n",
              "      <td>4210.77</td>\n",
              "      <td>4226.67</td>\n",
              "      <td>4207.69</td>\n",
              "      <td>4279.49</td>\n",
              "      <td>4632.82</td>\n",
              "      <td>4384.10</td>\n",
              "      <td>0</td>\n",
              "    </tr>\n",
              "    <tr>\n",
              "      <th>2</th>\n",
              "      <td>4327.69</td>\n",
              "      <td>4006.67</td>\n",
              "      <td>4295.38</td>\n",
              "      <td>4156.41</td>\n",
              "      <td>4336.92</td>\n",
              "      <td>4583.59</td>\n",
              "      <td>4096.92</td>\n",
              "      <td>4630.26</td>\n",
              "      <td>4207.69</td>\n",
              "      <td>4222.05</td>\n",
              "      <td>4206.67</td>\n",
              "      <td>4282.05</td>\n",
              "      <td>4628.72</td>\n",
              "      <td>4389.23</td>\n",
              "      <td>0</td>\n",
              "    </tr>\n",
              "    <tr>\n",
              "      <th>3</th>\n",
              "      <td>4328.72</td>\n",
              "      <td>4011.79</td>\n",
              "      <td>4296.41</td>\n",
              "      <td>4155.90</td>\n",
              "      <td>4343.59</td>\n",
              "      <td>4582.56</td>\n",
              "      <td>4097.44</td>\n",
              "      <td>4630.77</td>\n",
              "      <td>4217.44</td>\n",
              "      <td>4235.38</td>\n",
              "      <td>4210.77</td>\n",
              "      <td>4287.69</td>\n",
              "      <td>4632.31</td>\n",
              "      <td>4396.41</td>\n",
              "      <td>0</td>\n",
              "    </tr>\n",
              "    <tr>\n",
              "      <th>4</th>\n",
              "      <td>4326.15</td>\n",
              "      <td>4011.79</td>\n",
              "      <td>4292.31</td>\n",
              "      <td>4151.28</td>\n",
              "      <td>4347.69</td>\n",
              "      <td>4586.67</td>\n",
              "      <td>4095.90</td>\n",
              "      <td>4627.69</td>\n",
              "      <td>4210.77</td>\n",
              "      <td>4244.10</td>\n",
              "      <td>4212.82</td>\n",
              "      <td>4288.21</td>\n",
              "      <td>4632.82</td>\n",
              "      <td>4398.46</td>\n",
              "      <td>0</td>\n",
              "    </tr>\n",
              "  </tbody>\n",
              "</table>\n",
              "</div>"
            ],
            "text/plain": [
              "       AF3       F7       F3      FC5       T7       P7       O1       O2  \\\n",
              "0  4329.23  4009.23  4289.23  4148.21  4350.26  4586.15  4096.92  4641.03   \n",
              "1  4324.62  4004.62  4293.85  4148.72  4342.05  4586.67  4097.44  4638.97   \n",
              "2  4327.69  4006.67  4295.38  4156.41  4336.92  4583.59  4096.92  4630.26   \n",
              "3  4328.72  4011.79  4296.41  4155.90  4343.59  4582.56  4097.44  4630.77   \n",
              "4  4326.15  4011.79  4292.31  4151.28  4347.69  4586.67  4095.90  4627.69   \n",
              "\n",
              "        P8       T8      FC6       F4       F8      AF4  class  \n",
              "0  4222.05  4238.46  4211.28  4280.51  4635.90  4393.85      0  \n",
              "1  4210.77  4226.67  4207.69  4279.49  4632.82  4384.10      0  \n",
              "2  4207.69  4222.05  4206.67  4282.05  4628.72  4389.23      0  \n",
              "3  4217.44  4235.38  4210.77  4287.69  4632.31  4396.41      0  \n",
              "4  4210.77  4244.10  4212.82  4288.21  4632.82  4398.46      0  "
            ]
          },
          "execution_count": 70,
          "metadata": {},
          "output_type": "execute_result"
        }
      ],
      "source": [
        "data.head()"
      ]
    },
    {
      "cell_type": "code",
      "execution_count": null,
      "metadata": {
        "id": "hFYkk0OrJfe6",
        "outputId": "2786d51b-a23b-48c7-99a1-4bbedf0256d9"
      },
      "outputs": [
        {
          "name": "stdout",
          "output_type": "stream",
          "text": [
            "dimension of data: (13865, 15)\n"
          ]
        }
      ],
      "source": [
        "print(\"dimension of data: {}\".format(data.shape))"
      ]
    },
    {
      "cell_type": "markdown",
      "metadata": {
        "id": "LzbGFzJXJfe7"
      },
      "source": [
        "So there are total 14304 instances in the datatset after outliers are removed."
      ]
    },
    {
      "cell_type": "code",
      "execution_count": null,
      "metadata": {
        "id": "i9eEUAa4Jfe-",
        "outputId": "ab143217-2ad9-4950-b424-64b09a071ec7"
      },
      "outputs": [
        {
          "name": "stdout",
          "output_type": "stream",
          "text": [
            "class\n",
            "0    7549\n",
            "1    6316\n",
            "dtype: int64\n"
          ]
        }
      ],
      "source": [
        "print(data.groupby('class').size())"
      ]
    },
    {
      "cell_type": "markdown",
      "metadata": {
        "id": "IPNfC_fNJfe_"
      },
      "source": [
        "There are 7855 instances that belongs to class 0 and 6449 instances that belongs to class 1."
      ]
    },
    {
      "cell_type": "code",
      "execution_count": null,
      "metadata": {
        "id": "Scm43gIIJffA",
        "outputId": "d27c704f-ce6d-45f4-ce5e-7b8eedbdf940"
      },
      "outputs": [
        {
          "name": "stdout",
          "output_type": "stream",
          "text": [
            "<class 'pandas.core.frame.DataFrame'>\n",
            "RangeIndex: 13865 entries, 0 to 13864\n",
            "Data columns (total 15 columns):\n",
            " #   Column  Non-Null Count  Dtype  \n",
            "---  ------  --------------  -----  \n",
            " 0   AF3     13865 non-null  float64\n",
            " 1   F7      13865 non-null  float64\n",
            " 2   F3      13865 non-null  float64\n",
            " 3   FC5     13865 non-null  float64\n",
            " 4   T7      13865 non-null  float64\n",
            " 5   P7      13865 non-null  float64\n",
            " 6   O1      13865 non-null  float64\n",
            " 7   O2      13865 non-null  float64\n",
            " 8   P8      13865 non-null  float64\n",
            " 9   T8      13865 non-null  float64\n",
            " 10  FC6     13865 non-null  float64\n",
            " 11  F4      13865 non-null  float64\n",
            " 12  F8      13865 non-null  float64\n",
            " 13  AF4     13865 non-null  float64\n",
            " 14  class   13865 non-null  int64  \n",
            "dtypes: float64(14), int64(1)\n",
            "memory usage: 1.6 MB\n"
          ]
        }
      ],
      "source": [
        "data.info()"
      ]
    },
    {
      "cell_type": "code",
      "execution_count": null,
      "metadata": {
        "id": "yzt4M1w2JffC"
      },
      "outputs": [],
      "source": [
        "from scipy.stats import norm\n",
        "\n",
        "def qqplot(x):\n",
        "    x.sort()\n",
        "    n=len(x)\n",
        "    rank = np.arange(1,n+1,1)\n",
        "    line = (rank-0.5)/n\n",
        "    \n",
        "    zr = []\n",
        "    for i in range(0,len(x)):\n",
        "        t = norm.ppf(line[i])\n",
        "        zr.append(t)\n",
        "\n",
        "    z = np.multiply(zr,np.std(x)) + np.mean(x)\n",
        "\n",
        "    plt.scatter(zr,x)\n",
        "    plt.plot(zr,z,color='r',lw=2)\n",
        "    plt.show()"
      ]
    },
    {
      "cell_type": "code",
      "execution_count": null,
      "metadata": {
        "id": "AnRQL0XBJffD",
        "outputId": "f065cfac-617b-468f-d838-2861907246e0"
      },
      "outputs": [
        {
          "data": {
            "image/png": "[encoded data removed]",
            "text/plain": [
              "<Figure size 720x648 with 1 Axes>"
            ]
          },
          "metadata": {},
          "output_type": "display_data"
        }
      ],
      "source": [
        "plt.figure(figsize=(10,9))\n",
        "boxplot = data.boxplot(column=feat_list[0:6])"
      ]
    },
    {
      "cell_type": "markdown",
      "metadata": {
        "id": "wGSArrw6JffF"
      },
      "source": [
        "It is clear that there are less features that are correlated to each other and moreover, they are correlated around 0.8-0.9, remaining all are correlated less than 0.0-0.6"
      ]
    },
    {
      "cell_type": "code",
      "execution_count": null,
      "metadata": {
        "id": "0FwH2h-bJffF",
        "outputId": "86f76bb6-b02f-4101-b665-7a4c0e1ed6d9"
      },
      "outputs": [
        {
          "name": "stdout",
          "output_type": "stream",
          "text": [
            "Channel\tmin  \tmean \tmax  \tmin  \tmean \tmax  \n",
            "AF3   \t 4199\t 4300\t 4404\t 4207\t 4291\t 4405\n",
            "F7    \t 3923\t 4003\t 4115\t 3924\t 4007\t 4103\n",
            "F3    \t 4212\t 4263\t 4330\t 4197\t 4259\t 4331\n",
            "FC5   \t 4070\t 4119\t 4200\t 4073\t 4119\t 4178\n",
            "T7    \t 4310\t 4339\t 4393\t 4309\t 4340\t 4393\n",
            "P7    \t 4581\t 4617\t 4671\t 4568\t 4620\t 4671\n",
            "O1    \t 4026\t 4072\t 4132\t 4027\t 4071\t 4124\n",
            "O2    \t 4574\t 4615\t 4677\t 4572\t 4614\t 4682\n",
            "P8    \t 4148\t 4201\t 4257\t 4152\t 4199\t 4256\n",
            "T8    \t 4175\t 4231\t 4288\t 4170\t 4228\t 4288\n",
            "FC6   \t 4131\t 4201\t 4269\t 4131\t 4198\t 4261\n",
            "F4    \t 4226\t 4279\t 4332\t 4216\t 4274\t 4326\n",
            "F8    \t 4512\t 4606\t 4696\t 4512\t 4599\t 4695\n",
            "AF4   \t 4251\t 4362\t 4463\t 4262\t 4351\t 4465\n"
          ]
        }
      ],
      "source": [
        "print(\"{:7}\\t{:5}\\t{:5}\\t{:5}\\t{:5}\\t{:5}\\t{:5}\".format(\"Channel\", \"min\", \"mean\", \"max\", \"min\", \"mean\", \"max\"))\n",
        "x_cols =  [\"AF3\", \"F7\", \"F3\", \"FC5\", \"T7\", \"P7\", \"O1\", \"O2\", \"P8\", \"T8\", \"FC6\", \"F4\", \"F8\", \"AF4\"]\n",
        "for x in x_cols: \n",
        "    print(\"{:6}\\t{:5.0f}\\t{:5.0f}\\t{:5.0f}\\t{:5.0f}\\t{:5.0f}\\t{:5.0f}\".format(x, data[data['class']==1][x].min(), data[data['class']==1][x].mean(), data[data['class']==1][x].max(), data[data['class']==0][x].min(), data[data['class']==0][x].mean(), data[data['class']==0][x].max()))"
      ]
    },
    {
      "cell_type": "code",
      "execution_count": null,
      "metadata": {
        "id": "Y05EjsV9JffG",
        "outputId": "53483256-7100-4b8b-964a-0246474a360c"
      },
      "outputs": [
        {
          "name": "stdout",
          "output_type": "stream",
          "text": [
            "\n",
            "Eigenvalues: \n",
            "[0.05582649 0.13459564 0.15404892 0.19643039 0.23816172 0.25856769\n",
            " 0.29117773 0.34671188 0.45308459 0.59860504 0.67943651 0.92818642\n",
            " 2.04767329 2.19746142 6.42003227]\n"
          ]
        }
      ],
      "source": [
        "correlation = data.corr()\n",
        "eigen_vals, eigen_vecs = np.linalg.eigh(correlation)\n",
        "print('\\nEigenvalues: \\n%s' % eigen_vals)"
      ]
    },
    {
      "cell_type": "code",
      "execution_count": null,
      "metadata": {
        "id": "qJzSiTLzJffH",
        "outputId": "a09f3fb3-3b12-4417-8c3f-6a88154aa1b9"
      },
      "outputs": [
        {
          "data": {
            "image/png": "[encoded data removed]",
            "text/plain": [
              "<Figure size 576x396 with 1 Axes>"
            ]
          },
          "metadata": {},
          "output_type": "display_data"
        }
      ],
      "source": [
        "tot = sum(np.abs(eigen_vals))\n",
        "var_exp = [(i / tot) for i in sorted(np.abs(eigen_vals), reverse=True)]\n",
        "cum_var_exp = np.cumsum(var_exp)\n",
        "\n",
        "plt.bar(range(1, eigen_vals.size + 1), var_exp, alpha=0.5, align='center',label='Individual')\n",
        "plt.step(range(1, eigen_vals.size + 1), cum_var_exp, where='mid',label='Cumulative')\n",
        "plt.ylabel('Explained variance ratio')\n",
        "plt.xlabel('Principal components')\n",
        "plt.legend(loc='best')\n",
        "plt.tight_layout()\n",
        "plt.savefig('pcaiqr.png')\n",
        "plt.show()"
      ]
    },
    {
      "cell_type": "code",
      "execution_count": null,
      "metadata": {
        "id": "VADq-DXiJffH",
        "outputId": "37fe6fd4-a275-4137-db24-de7f9b6504e9"
      },
      "outputs": [
        {
          "data": {
            "text/plain": [
              "array([0.42800215, 0.57449958, 0.71101113, 0.77289023, 0.81818599,\n",
              "       0.858093  , 0.88829864, 0.91141276, 0.93082461, 0.94806246,\n",
              "       0.9639399 , 0.97703526, 0.98730519, 0.99627823, 1.        ])"
            ]
          },
          "execution_count": 80,
          "metadata": {},
          "output_type": "execute_result"
        }
      ],
      "source": [
        "cum_var_exp"
      ]
    },
    {
      "cell_type": "code",
      "execution_count": null,
      "metadata": {
        "id": "qMVftVjfJffI"
      },
      "outputs": [],
      "source": [
        "X = data.drop('class', 1)\n",
        "y = data['class']\n",
        "from sklearn.model_selection import train_test_split\n",
        "\n",
        "X_train, X_test, y_train, y_test = train_test_split(X, y, test_size=0.2, random_state=0)\n",
        "\n",
        "from sklearn.preprocessing import StandardScaler\n",
        "\n",
        "sc = StandardScaler()\n",
        "X_train = sc.fit_transform(X_train)\n",
        "X_test = sc.transform(X_test)\n",
        "\n",
        "from sklearn.decomposition import PCA\n",
        "\n",
        "pca = PCA()\n",
        "X_train = pca.fit_transform(X_train)\n",
        "X_test = pca.transform(X_test)\n",
        "\n",
        "explained_variance = pca.explained_variance_ratio_\n",
        "\n",
        "from sklearn.decomposition import PCA\n",
        "\n",
        "pca = PCA(n_components=11)\n",
        "X_train = pca.fit_transform(X_train)\n",
        "X_test = pca.transform(X_test)\n",
        "\n",
        "sc = StandardScaler()\n",
        "X_train = sc.fit_transform(X_train)\n",
        "X_test = sc.transform(X_test)"
      ]
    },
    {
      "cell_type": "code",
      "execution_count": null,
      "metadata": {
        "id": "KDYJuCWGJffJ",
        "outputId": "25f9f94e-e930-4250-fbc3-d04da086bbfc"
      },
      "outputs": [
        {
          "data": {
            "text/plain": [
              "(11092, 11)"
            ]
          },
          "execution_count": 215,
          "metadata": {},
          "output_type": "execute_result"
        }
      ],
      "source": [
        "X_train.shape"
      ]
    },
    {
      "cell_type": "code",
      "execution_count": null,
      "metadata": {
        "id": "W4GjX7f7JffJ",
        "outputId": "2eb51e2a-ffb8-46fd-f159-d44529880e13"
      },
      "outputs": [
        {
          "name": "stdout",
          "output_type": "stream",
          "text": [
            "Accuracy on training set: 0.98\n",
            "Accuracy on test set: 0.96\n"
          ]
        }
      ],
      "source": [
        "svc = SVC(kernel='rbf',C=50,gamma='auto',probability=True)\n",
        "svc.fit(X_train, y_train)\n",
        "\n",
        "print(\"Accuracy on training set: {:.2f}\".format(svc.score(X_train, y_train)))\n",
        "print(\"Accuracy on test set: {:.2f}\".format(svc.score(X_test, y_test)))"
      ]
    },
    {
      "cell_type": "code",
      "execution_count": null,
      "metadata": {
        "id": "FVLALPjLJffK"
      },
      "outputs": [],
      "source": [
        ""
      ]
    },
    {
      "cell_type": "code",
      "execution_count": null,
      "metadata": {
        "id": "EUb57O4nJffK"
      },
      "outputs": [],
      "source": [
        "def roc_calc(model,X_test,y_test,name):\n",
        "    pred_prob = svc.predict_proba(X_test)\n",
        "    # auc scores\n",
        "    auc_score1 = roc_auc_score(y_test, pred_prob[:,1])\n",
        "    print('accuracy score is: ' + str(auc_score1))\n",
        "    # roc curve for models\n",
        "    fpr1, tpr1, thresh1 = roc_curve(y_test, pred_prob[:,1], pos_label=1)\n",
        "    plt.style.use('seaborn')\n",
        "\n",
        "    # plot roc curves\n",
        "    plt.plot(fpr1, tpr1, linestyle='--',color='blue')\n",
        "    # title\n",
        "    plt.title('ROC curve')\n",
        "    # x label\n",
        "    plt.xlabel('False Positive Rate')\n",
        "    # y label\n",
        "    plt.ylabel('True Positive rate')\n",
        "    plt.savefig('roc'+str(name) + '.png')\n",
        "    plt.show();"
      ]
    },
    {
      "cell_type": "code",
      "execution_count": null,
      "metadata": {
        "id": "_FDYmkXpJffK",
        "outputId": "852ab244-eefc-4221-e015-8c52a7351c17"
      },
      "outputs": [
        {
          "name": "stdout",
          "output_type": "stream",
          "text": [
            "accuracy score is: 0.9896801155852236\n"
          ]
        },
        {
          "data": {
            "image/png": "[encoded data removed]",
            "text/plain": [
              "<Figure size 576x396 with 1 Axes>"
            ]
          },
          "metadata": {},
          "output_type": "display_data"
        }
      ],
      "source": [
        "roc_calc(svc,X_test,y_test)"
      ]
    },
    {
      "cell_type": "code",
      "execution_count": null,
      "metadata": {
        "id": "kJM9Izn2JffL"
      },
      "outputs": [],
      "source": [
        ""
      ]
    },
    {
      "cell_type": "code",
      "execution_count": null,
      "metadata": {
        "id": "2VPIeETsJffL"
      },
      "outputs": [],
      "source": [
        ""
      ]
    },
    {
      "cell_type": "code",
      "execution_count": null,
      "metadata": {
        "id": "FpVfrcf7JffL"
      },
      "outputs": [],
      "source": [
        ""
      ]
    },
    {
      "cell_type": "code",
      "execution_count": null,
      "metadata": {
        "id": "4Zb18Z6zJffM",
        "outputId": "424abf70-4d11-4b2a-82ca-9d24e7b5da55"
      },
      "outputs": [
        {
          "name": "stdout",
          "output_type": "stream",
          "text": [
            "Precision  0.95\n",
            "Recall 0.95\n"
          ]
        },
        {
          "data": {
            "text/plain": [
              "<Figure size 576x396 with 0 Axes>"
            ]
          },
          "metadata": {},
          "output_type": "display_data"
        },
        {
          "data": {
            "image/png": "[encoded data removed]",
            "text/plain": [
              "<Figure size 576x396 with 2 Axes>"
            ]
          },
          "metadata": {},
          "output_type": "display_data"
        }
      ],
      "source": [
        "prediction=svc.predict(X_test)\n",
        "cmatrix=confusion_matrix(y_test,prediction)\n",
        "print(\"Precision  {:.2f}\".format(precision_score(y_test,prediction, average='binary')))\n",
        "print(\"Recall {:.2f}\".format(recall_score(y_test,prediction, labels=[-1,1], average='micro')))\n",
        "plt.figure()\n",
        "plot_confusion_matrix(svc, X_test, y_test)\n",
        "plt.show()"
      ]
    },
    {
      "cell_type": "markdown",
      "metadata": {
        "id": "fHqmYL6qJffM"
      },
      "source": [
        "### Data splitting"
      ]
    },
    {
      "cell_type": "code",
      "execution_count": null,
      "metadata": {
        "id": "l_9bpvF4JffM"
      },
      "outputs": [],
      "source": [
        "X_train, X_test, y_train, y_test = train_test_split(data.loc[:, data.columns != 'class'], data['class'], stratify=data['class'], random_state=66)"
      ]
    },
    {
      "cell_type": "code",
      "execution_count": null,
      "metadata": {
        "id": "OLUkjVqKJffN",
        "outputId": "f3c12a32-5237-45c7-ea76-e588f446f6e0"
      },
      "outputs": [
        {
          "data": {
            "text/plain": [
              "((11092, 11), (2773, 11))"
            ]
          },
          "execution_count": 221,
          "metadata": {},
          "output_type": "execute_result"
        }
      ],
      "source": [
        "X_train.shape, X_test.shape"
      ]
    },
    {
      "cell_type": "code",
      "execution_count": null,
      "metadata": {
        "id": "zKTerNUCJffN"
      },
      "outputs": [],
      "source": [
        ""
      ]
    },
    {
      "cell_type": "markdown",
      "metadata": {
        "id": "jRMJnx16JffN"
      },
      "source": [
        "## LDA"
      ]
    },
    {
      "cell_type": "code",
      "execution_count": null,
      "metadata": {
        "id": "7o7jo9Q4JffO",
        "outputId": "fb108ec7-e957-4cd1-c187-073735a1b7b3"
      },
      "outputs": [
        {
          "name": "stdout",
          "output_type": "stream",
          "text": [
            "Accuracy on training set: 0.64\n",
            "Accuracy on test set: 0.65\n"
          ]
        }
      ],
      "source": [
        "ldam=LinearDiscriminantAnalysis()\n",
        "ldam.fit(X_train, y_train)\n",
        "print(\"Accuracy on training set: {:.2f}\".format(ldam.score(X_train, y_train)))\n",
        "print(\"Accuracy on test set: {:.2f}\".format(ldam.score(X_test, y_test)))"
      ]
    },
    {
      "cell_type": "code",
      "execution_count": null,
      "metadata": {
        "id": "oM-A19wkJffO",
        "outputId": "c57b9d9e-5406-45e2-f182-0c0bb6e4efc0"
      },
      "outputs": [
        {
          "name": "stdout",
          "output_type": "stream",
          "text": [
            "Precision  0.65\n",
            "Recall 0.48\n"
          ]
        },
        {
          "data": {
            "text/plain": [
              "<Figure size 576x396 with 0 Axes>"
            ]
          },
          "metadata": {},
          "output_type": "display_data"
        },
        {
          "data": {
            "image/png": "[encoded data removed]",
            "text/plain": [
              "<Figure size 576x396 with 2 Axes>"
            ]
          },
          "metadata": {},
          "output_type": "display_data"
        }
      ],
      "source": [
        "prediction=ldam.predict(X_test)\n",
        "cmatrix=confusion_matrix(y_test,prediction)\n",
        "print(\"Precision  {:.2f}\".format(precision_score(y_test,prediction, average='binary')))\n",
        "print(\"Recall {:.2f}\".format(recall_score(y_test,prediction, labels=[-1,1], average='micro')))\n",
        "plt.figure()\n",
        "plot_confusion_matrix(ldam, X_test, y_test)\n",
        "plt.savefig('ldacm.png')\n",
        "plt.show()"
      ]
    },
    {
      "cell_type": "markdown",
      "metadata": {
        "id": "0QA8V_5NJffO"
      },
      "source": [
        "## QDA"
      ]
    },
    {
      "cell_type": "code",
      "execution_count": null,
      "metadata": {
        "id": "KmhrT2tWJffO",
        "outputId": "e01c7b92-fc76-4b4e-dc56-774b26679608"
      },
      "outputs": [
        {
          "name": "stdout",
          "output_type": "stream",
          "text": [
            "Accuracy on training set: 0.80\n",
            "Accuracy on test set: 0.80\n"
          ]
        }
      ],
      "source": [
        "qdam=QuadraticDiscriminantAnalysis()\n",
        "qdam.fit(X_train, y_train)\n",
        "print(\"Accuracy on training set: {:.2f}\".format(qdam.score(X_train, y_train)))\n",
        "print(\"Accuracy on test set: {:.2f}\".format(qdam.score(X_test, y_test)))"
      ]
    },
    {
      "cell_type": "code",
      "execution_count": null,
      "metadata": {
        "id": "8K7XxDxiJffP",
        "outputId": "966b40a9-f226-443d-9164-544273d9f155"
      },
      "outputs": [
        {
          "name": "stdout",
          "output_type": "stream",
          "text": [
            "Precision  0.81\n",
            "Recall 0.73\n"
          ]
        },
        {
          "data": {
            "text/plain": [
              "<Figure size 576x396 with 0 Axes>"
            ]
          },
          "metadata": {},
          "output_type": "display_data"
        },
        {
          "data": {
            "image/png": "[encoded data removed]",
            "text/plain": [
              "<Figure size 576x396 with 2 Axes>"
            ]
          },
          "metadata": {},
          "output_type": "display_data"
        }
      ],
      "source": [
        "prediction=qdam.predict(X_test)\n",
        "cmatrix=confusion_matrix(y_test,prediction)\n",
        "print(\"Precision  {:.2f}\".format(precision_score(y_test,prediction, average='binary')))\n",
        "print(\"Recall {:.2f}\".format(recall_score(y_test,prediction, labels=[-1,1], average='micro')))\n",
        "plt.figure()\n",
        "plot_confusion_matrix(qdam, X_test, y_test)\n",
        "plt.savefig('qdacm.png')\n",
        "plt.show()"
      ]
    },
    {
      "cell_type": "code",
      "execution_count": null,
      "metadata": {
        "id": "W4sikghTJffP"
      },
      "outputs": [],
      "source": [
        ""
      ]
    },
    {
      "cell_type": "markdown",
      "metadata": {
        "id": "36seo2VfJffP"
      },
      "source": [
        "### Support Vector Machine"
      ]
    },
    {
      "cell_type": "code",
      "execution_count": null,
      "metadata": {
        "id": "bkqnox3OJffQ",
        "outputId": "b64e0030-527c-4447-a376-5fc2a3cf9bb2"
      },
      "outputs": [
        {
          "name": "stdout",
          "output_type": "stream",
          "text": [
            "Accuracy on training set: 0.93\n",
            "Accuracy on test set: 0.92\n"
          ]
        }
      ],
      "source": [
        "svc = SVC(kernel='rbf',C=1, decision_function_shape='ovo')\n",
        "svc.fit(X_train, y_train)\n",
        "\n",
        "print(\"Accuracy on training set: {:.2f}\".format(svc.score(X_train, y_train)))\n",
        "print(\"Accuracy on test set: {:.2f}\".format(svc.score(X_test, y_test)))"
      ]
    },
    {
      "cell_type": "code",
      "execution_count": null,
      "metadata": {
        "id": "zJpb7dqLJffQ",
        "outputId": "c39465ea-1b7d-4b98-f506-71a52d841a9a"
      },
      "outputs": [
        {
          "name": "stdout",
          "output_type": "stream",
          "text": [
            "Accuracy on training set: 0.88\n",
            "Accuracy on test set: 0.87\n"
          ]
        }
      ],
      "source": [
        "svc = SVC(kernel='poly',degree=3,C=1, decision_function_shape='ovo')\n",
        "svc.fit(X_train, y_train)\n",
        "\n",
        "print(\"Accuracy on training set: {:.2f}\".format(svc.score(X_train, y_train)))\n",
        "print(\"Accuracy on test set: {:.2f}\".format(svc.score(X_test, y_test)))"
      ]
    },
    {
      "cell_type": "code",
      "execution_count": null,
      "metadata": {
        "id": "emc0HbA5JffQ"
      },
      "outputs": [],
      "source": [
        ""
      ]
    },
    {
      "cell_type": "markdown",
      "metadata": {
        "id": "3N7gEDpAJffQ"
      },
      "source": [
        "### Neural Networks"
      ]
    },
    {
      "cell_type": "code",
      "execution_count": null,
      "metadata": {
        "id": "HBMPx_ioJffQ",
        "outputId": "3283d2e6-6596-4c17-8f40-9697d30b410d"
      },
      "outputs": [
        {
          "name": "stdout",
          "output_type": "stream",
          "text": [
            "Accuracy on training set: 0.97\n",
            "Accuracy on test set: 0.94\n"
          ]
        },
        {
          "name": "stderr",
          "output_type": "stream",
          "text": [
            "/home/rohith/.local/lib/python3.6/site-packages/sklearn/neural_network/_multilayer_perceptron.py:571: ConvergenceWarning: Stochastic Optimizer: Maximum iterations (200) reached and the optimization hasn't converged yet.\n",
            "  % self.max_iter, ConvergenceWarning)\n"
          ]
        }
      ],
      "source": [
        "mlp = MLPClassifier(random_state=42)\n",
        "mlp.fit(X_train, y_train)\n",
        "\n",
        "print(\"Accuracy on training set: {:.2f}\".format(mlp.score(X_train, y_train)))\n",
        "print(\"Accuracy on test set: {:.2f}\".format(mlp.score(X_test, y_test)))"
      ]
    },
    {
      "cell_type": "code",
      "execution_count": null,
      "metadata": {
        "id": "2zgxvd0EJffR",
        "outputId": "f1a47984-ccb1-48da-c9c3-67a8b5fcd3a4"
      },
      "outputs": [
        {
          "data": {
            "text/plain": [
              "<matplotlib.legend.Legend at 0x7efcba80b400>"
            ]
          },
          "execution_count": 229,
          "metadata": {},
          "output_type": "execute_result"
        },
        {
          "data": {
            "image/png": "[encoded data removed]",
            "text/plain": [
              "<Figure size 576x396 with 1 Axes>"
            ]
          },
          "metadata": {},
          "output_type": "display_data"
        }
      ],
      "source": [
        "training_accuracy = []\n",
        "test_accuracy = []\n",
        "# try n_neighbors from 1 to 10\n",
        "neighbors_settings = range(1, 11)\n",
        "\n",
        "for n_neighbors in neighbors_settings:\n",
        "    # build the model\n",
        "    knn = KNeighborsClassifier(n_neighbors=n_neighbors)\n",
        "    knn.fit(X_train, y_train)\n",
        "    # record training set accuracy\n",
        "    training_accuracy.append(knn.score(X_train, y_train))\n",
        "    # record test set accuracy\n",
        "    test_accuracy.append(knn.score(X_test, y_test))\n",
        "\n",
        "plt.plot(neighbors_settings, training_accuracy, label=\"training accuracy\")\n",
        "plt.plot(neighbors_settings, test_accuracy, label=\"test accuracy\")\n",
        "plt.ylabel(\"Accuracy\")\n",
        "plt.xlabel(\"n_neighbors\")\n",
        "plt.legend()"
      ]
    },
    {
      "cell_type": "code",
      "execution_count": null,
      "metadata": {
        "id": "UaHbe-GGJffR"
      },
      "outputs": [],
      "source": [
        "error = []\n",
        "\n",
        "# Calculating error for K values between 1 and 40\n",
        "for i in range(1, 40):\n",
        "    knn = KNeighborsClassifier(n_neighbors=i)\n",
        "    knn.fit(X_train, y_train)\n",
        "    pred_i = knn.predict(X_test)\n",
        "    error.append(np.mean(pred_i != y_test))\n"
      ]
    },
    {
      "cell_type": "code",
      "execution_count": null,
      "metadata": {
        "id": "OUbam7mWJffR",
        "outputId": "099d5b6a-bb60-4471-bee3-da885e1b7e30"
      },
      "outputs": [
        {
          "data": {
            "text/plain": [
              "Text(0, 0.5, 'Mean Error')"
            ]
          },
          "execution_count": 231,
          "metadata": {},
          "output_type": "execute_result"
        },
        {
          "data": {
            "image/png": "[encoded data removed]",
            "text/plain": [
              "<Figure size 576x396 with 1 Axes>"
            ]
          },
          "metadata": {},
          "output_type": "display_data"
        }
      ],
      "source": [
        "plt.figure()\n",
        "plt.plot(range(1, 40), error, color='red', linestyle='dashed', marker='o',\n",
        "         markerfacecolor='blue', markersize=10)\n",
        "plt.title('Error Rate K Value')\n",
        "plt.xlabel('K Value')\n",
        "plt.ylabel('Mean Error')"
      ]
    },
    {
      "cell_type": "code",
      "execution_count": null,
      "metadata": {
        "id": "-OrqwVNdJffS",
        "outputId": "3fb99763-b5d6-4b0c-e930-026e77e86f19"
      },
      "outputs": [
        {
          "name": "stdout",
          "output_type": "stream",
          "text": [
            "Accuracy of K-NN classifier on training set: 1.00\n",
            "Accuracy of K-NN classifier on test set: 0.97\n"
          ]
        }
      ],
      "source": [
        "knn = KNeighborsClassifier(n_neighbors=1)\n",
        "knn.fit(X_train, y_train)\n",
        "\n",
        "print('Accuracy of K-NN classifier on training set: {:.2f}'.format(knn.score(X_train, y_train)))\n",
        "print('Accuracy of K-NN classifier on test set: {:.2f}'.format(knn.score(X_test, y_test)))"
      ]
    },
    {
      "cell_type": "code",
      "execution_count": null,
      "metadata": {
        "id": "uTR4FR1IJffS",
        "outputId": "83b25cd7-8a7f-4d36-8054-339cfd3f59de"
      },
      "outputs": [
        {
          "name": "stdout",
          "output_type": "stream",
          "text": [
            "Precision  0.97\n",
            "Recall 0.97\n"
          ]
        },
        {
          "data": {
            "text/plain": [
              "<Figure size 576x396 with 0 Axes>"
            ]
          },
          "metadata": {},
          "output_type": "display_data"
        },
        {
          "data": {
            "image/png": "[encoded data removed]",
            "text/plain": [
              "<Figure size 576x396 with 2 Axes>"
            ]
          },
          "metadata": {},
          "output_type": "display_data"
        }
      ],
      "source": [
        "prediction=knn.predict(X_test)\n",
        "cmatrix=confusion_matrix(y_test,prediction)\n",
        "print(\"Precision  {:.2f}\".format(precision_score(y_test,prediction, average='binary')))\n",
        "print(\"Recall {:.2f}\".format(recall_score(y_test,prediction, labels=[-1,1], average='micro')))\n",
        "plt.figure()\n",
        "plot_confusion_matrix(knn, X_test, y_test)\n",
        "plt.savefig('knncm.png')\n",
        "plt.show()"
      ]
    },
    {
      "cell_type": "code",
      "execution_count": null,
      "metadata": {
        "id": "xUoofEoYJffS",
        "outputId": "496ecc05-7955-4eee-c913-ef7785a9cafd"
      },
      "outputs": [
        {
          "name": "stdout",
          "output_type": "stream",
          "text": [
            "Training set score: 0.636\n",
            "Test set score: 0.645\n"
          ]
        }
      ],
      "source": [
        "from sklearn.linear_model import LogisticRegression\n",
        "\n",
        "logreg = LogisticRegression(C=1).fit(X_train, y_train)\n",
        "print(\"Training set score: {:.3f}\".format(logreg.score(X_train, y_train)))\n",
        "print(\"Test set score: {:.3f}\".format(logreg.score(X_test, y_test)))"
      ]
    },
    {
      "cell_type": "code",
      "execution_count": null,
      "metadata": {
        "id": "BwuFnNKVJffS",
        "outputId": "178ccbeb-02ae-4d92-c225-86f7ef34b37c"
      },
      "outputs": [
        {
          "name": "stdout",
          "output_type": "stream",
          "text": [
            "Precision  0.64\n",
            "Recall 0.49\n"
          ]
        },
        {
          "data": {
            "text/plain": [
              "<Figure size 576x396 with 0 Axes>"
            ]
          },
          "metadata": {},
          "output_type": "display_data"
        },
        {
          "data": {
            "image/png": "[encoded data removed]",
            "text/plain": [
              "<Figure size 576x396 with 2 Axes>"
            ]
          },
          "metadata": {},
          "output_type": "display_data"
        }
      ],
      "source": [
        "prediction=logreg.predict(X_test)\n",
        "cmatrix=confusion_matrix(y_test,prediction)\n",
        "print(\"Precision  {:.2f}\".format(precision_score(y_test,prediction, average='binary')))\n",
        "print(\"Recall {:.2f}\".format(recall_score(y_test,prediction, labels=[-1,1], average='micro')))\n",
        "plt.figure()\n",
        "plot_confusion_matrix(logreg, X_test, y_test)\n",
        "plt.show()"
      ]
    },
    {
      "cell_type": "markdown",
      "metadata": {
        "id": "GgbS_VJ_JffT"
      },
      "source": [
        "### Decision Tree"
      ]
    },
    {
      "cell_type": "code",
      "execution_count": null,
      "metadata": {
        "id": "0VvP-LbTJffT",
        "outputId": "739168be-476b-4768-d056-896ff8191157"
      },
      "outputs": [
        {
          "name": "stdout",
          "output_type": "stream",
          "text": [
            "Accuracy on training set: 0.995\n",
            "Accuracy on test set: 0.824\n"
          ]
        }
      ],
      "source": [
        "tree = DecisionTreeClassifier(max_depth=20,random_state=0)\n",
        "tree.fit(X_train, y_train)\n",
        "print(\"Accuracy on training set: {:.3f}\".format(tree.score(X_train, y_train)))\n",
        "print(\"Accuracy on test set: {:.3f}\".format(tree.score(X_test, y_test)))"
      ]
    },
    {
      "cell_type": "code",
      "execution_count": null,
      "metadata": {
        "id": "veCcSS1jJffT",
        "outputId": "60479d5e-816f-432e-82a1-c5c651164197"
      },
      "outputs": [
        {
          "name": "stdout",
          "output_type": "stream",
          "text": [
            "Precision  0.81\n",
            "Recall 0.79\n"
          ]
        },
        {
          "data": {
            "text/plain": [
              "<Figure size 576x396 with 0 Axes>"
            ]
          },
          "metadata": {},
          "output_type": "display_data"
        },
        {
          "data": {
            "image/png": "[encoded data removed]",
            "text/plain": [
              "<Figure size 576x396 with 2 Axes>"
            ]
          },
          "metadata": {},
          "output_type": "display_data"
        }
      ],
      "source": [
        "prediction=tree.predict(X_test)\n",
        "cmatrix=confusion_matrix(y_test,prediction)\n",
        "print(\"Precision  {:.2f}\".format(precision_score(y_test,prediction, average='binary')))\n",
        "print(\"Recall {:.2f}\".format(recall_score(y_test,prediction, labels=[-1,1], average='micro')))\n",
        "plt.figure()\n",
        "plot_confusion_matrix(tree, X_test, y_test)\n",
        "plt.show()"
      ]
    },
    {
      "cell_type": "code",
      "execution_count": null,
      "metadata": {
        "id": "5uhvXyyCJffU"
      },
      "outputs": [],
      "source": [
        ""
      ]
    },
    {
      "cell_type": "markdown",
      "metadata": {
        "id": "vXAMlCrwJffU"
      },
      "source": [
        "### Random Forest"
      ]
    },
    {
      "cell_type": "code",
      "execution_count": null,
      "metadata": {
        "id": "s73NSLg5JffU",
        "outputId": "1f60f99f-9846-40ee-9b43-c8a1b1f8b8f7"
      },
      "outputs": [
        {
          "name": "stdout",
          "output_type": "stream",
          "text": [
            "Accuracy on training set: 1.000\n",
            "Accuracy on test set: 0.930\n"
          ]
        }
      ],
      "source": [
        "rf = RandomForestClassifier()\n",
        "rf.fit(X_train, y_train)\n",
        "print(\"Accuracy on training set: {:.3f}\".format(rf.score(X_train, y_train)))\n",
        "print(\"Accuracy on test set: {:.3f}\".format(rf.score(X_test, y_test)))"
      ]
    },
    {
      "cell_type": "code",
      "execution_count": null,
      "metadata": {
        "id": "C0QRpyyrJffU",
        "outputId": "bf6f88a8-4e88-4021-cb45-86763bcfb917"
      },
      "outputs": [
        {
          "name": "stdout",
          "output_type": "stream",
          "text": [
            "Precision  0.95\n",
            "Recall 0.90\n"
          ]
        },
        {
          "data": {
            "text/plain": [
              "<Figure size 576x396 with 0 Axes>"
            ]
          },
          "metadata": {},
          "output_type": "display_data"
        },
        {
          "data": {
            "image/png": "[encoded data removed]",
            "text/plain": [
              "<Figure size 576x396 with 2 Axes>"
            ]
          },
          "metadata": {},
          "output_type": "display_data"
        }
      ],
      "source": [
        "prediction=rf.predict(X_test)\n",
        "cmatrix=confusion_matrix(y_test,prediction)\n",
        "print(\"Precision  {:.2f}\".format(precision_score(y_test,prediction, average='binary')))\n",
        "print(\"Recall {:.2f}\".format(recall_score(y_test,prediction, labels=[-1,1], average='micro')))\n",
        "plt.figure()\n",
        "plot_confusion_matrix(rf, X_test, y_test)\n",
        "plt.show()"
      ]
    },
    {
      "cell_type": "markdown",
      "metadata": {
        "id": "VBt4e9eSJffU"
      },
      "source": [
        "### Gradient Boosting"
      ]
    },
    {
      "cell_type": "code",
      "execution_count": null,
      "metadata": {
        "id": "AiSoo46pJffV",
        "outputId": "a1a51c72-5970-404a-beba-288101b3c491"
      },
      "outputs": [
        {
          "name": "stdout",
          "output_type": "stream",
          "text": [
            "Accuracy on training set: 1.000\n",
            "Accuracy on test set: 0.929\n"
          ]
        }
      ],
      "source": [
        "gb = GradientBoostingClassifier(random_state=0,max_depth=10, learning_rate=0.1)\n",
        "gb.fit(X_train, y_train)\n",
        "\n",
        "print(\"Accuracy on training set: {:.3f}\".format(gb.score(X_train, y_train)))\n",
        "print(\"Accuracy on test set: {:.3f}\".format(gb.score(X_test, y_test)))"
      ]
    },
    {
      "cell_type": "code",
      "execution_count": null,
      "metadata": {
        "id": "GZ83IBPzJffV",
        "outputId": "5814bc5a-678b-43b8-8409-b44adfd5783f"
      },
      "outputs": [
        {
          "name": "stdout",
          "output_type": "stream",
          "text": [
            "Precision  0.93\n",
            "Recall 0.91\n"
          ]
        },
        {
          "data": {
            "text/plain": [
              "<Figure size 576x396 with 0 Axes>"
            ]
          },
          "metadata": {},
          "output_type": "display_data"
        },
        {
          "data": {
            "image/png": "[encoded data removed]",
            "text/plain": [
              "<Figure size 576x396 with 2 Axes>"
            ]
          },
          "metadata": {},
          "output_type": "display_data"
        }
      ],
      "source": [
        "prediction=gb.predict(X_test)\n",
        "cmatrix=confusion_matrix(y_test,prediction)\n",
        "print(\"Precision  {:.2f}\".format(precision_score(y_test,prediction, average='binary')))\n",
        "print(\"Recall {:.2f}\".format(recall_score(y_test,prediction, labels=[-1,1], average='micro')))\n",
        "plt.figure()\n",
        "plot_confusion_matrix(gb, X_test, y_test)\n",
        "plt.show()"
      ]
    },
    {
      "cell_type": "code",
      "execution_count": null,
      "metadata": {
        "id": "oo7jq34zJffV"
      },
      "outputs": [],
      "source": [
        ""
      ]
    },
    {
      "cell_type": "code",
      "execution_count": null,
      "metadata": {
        "id": "lfpTmSbtJffX"
      },
      "outputs": [],
      "source": [
        ""
      ]
    },
    {
      "cell_type": "code",
      "execution_count": null,
      "metadata": {
        "id": "JL5hgAFHJffX"
      },
      "outputs": [],
      "source": [
        "def plot_loss_accuracy(history):\n",
        "    historydf = pd.DataFrame(history.history, index=history.epoch)\n",
        "    plt.figure(figsize=(8, 6))\n",
        "    historydf.plot(ylim=(0, max(1, historydf.values.max())))\n",
        "    loss = history.history['loss'][-1]\n",
        "    acc = history.history['accuracy'][-1]\n",
        "    plt.title('Loss: %.3f, Accuracy: %.3f' % (loss, acc))\n",
        "\n",
        "def plot_loss(history):\n",
        "    historydf = pd.DataFrame(history.history, index=history.epoch)\n",
        "    plt.figure(figsize=(8, 6))\n",
        "    historydf.plot(ylim=(0, historydf.values.max()))\n",
        "    plt.title('Loss: %.3f' % history.history['loss'][-1])"
      ]
    },
    {
      "cell_type": "code",
      "execution_count": null,
      "metadata": {
        "id": "5OAZn9grJffX"
      },
      "outputs": [],
      "source": [
        "from matplotlib.colors import ListedColormap\n",
        "from sklearn.metrics import confusion_matrix, classification_report, mean_squared_error, mean_absolute_error, r2_score\n",
        "from sklearn.linear_model import LogisticRegression\n",
        "from sklearn.utils import shuffle\n",
        "from keras.models import Sequential\n",
        "from keras.layers import Dense, Dropout, BatchNormalization, Activation\n",
        "from keras.optimizers import Adam\n",
        "from keras.callbacks import EarlyStopping\n",
        "from keras.utils.np_utils import to_categorical\n",
        "from sklearn.preprocessing import StandardScaler, LabelEncoder, OneHotEncoder, MinMaxScaler\n",
        "from sklearn.model_selection import train_test_split, cross_val_score, StratifiedKFold, KFold\n",
        "import keras.backend as K\n",
        "from keras.wrappers.scikit_learn import KerasClassifier"
      ]
    },
    {
      "cell_type": "code",
      "execution_count": null,
      "metadata": {
        "id": "IvWUyzvbJffX"
      },
      "outputs": [],
      "source": [
        "#X = data[feat_list].values\n",
        "#y = data['class'].values\n",
        "\n",
        "model = Sequential()\n",
        "model.add(Dense(64, input_shape=(11,), activation='relu'))\n",
        "model.add(Dense(64, activation='relu'))\n",
        "model.add(Dense(64, activation='relu'))\n",
        "model.add(Dense(2, activation='sigmoid'))\n",
        "\n",
        "model.compile('adam', 'categorical_crossentropy', metrics=['accuracy'])\n",
        "\n",
        "y_cat = to_categorical( y_train.values)\n",
        "history = model.fit(X_train_scaled, y_cat, verbose=0, epochs=20)"
      ]
    },
    {
      "cell_type": "code",
      "execution_count": null,
      "metadata": {
        "id": "_t3Rm4weJffY"
      },
      "outputs": [],
      "source": [
        "model.predict_classes(X_test)\n",
        "acc = history.history['accuracy'][-1]"
      ]
    },
    {
      "cell_type": "code",
      "execution_count": null,
      "metadata": {
        "id": "Lej1DNjDJffY",
        "outputId": "d0d97c3a-07e2-49de-e54b-b3917d09d465"
      },
      "outputs": [
        {
          "name": "stdout",
          "output_type": "stream",
          "text": [
            "Accuracy on test set: 0.907\n"
          ]
        }
      ],
      "source": [
        "print(\"Accuracy on test set: {:.3f}\".format(acc))"
      ]
    },
    {
      "cell_type": "code",
      "execution_count": null,
      "metadata": {
        "id": "kAfSyrYxJffY",
        "outputId": "ee48ab00-3061-4012-9e26-3a1f06ac3eb5"
      },
      "outputs": [
        {
          "name": "stdout",
          "output_type": "stream",
          "text": [
            "Precision  0.58\n",
            "Recall 0.80\n"
          ]
        },
        {
          "data": {
            "text/plain": [
              "<Figure size 576x396 with 0 Axes>"
            ]
          },
          "metadata": {},
          "output_type": "display_data"
        }
      ],
      "source": [
        "prediction=model.predict_classes(X_test)\n",
        "print(\"Precision  {:.2f}\".format(precision_score(y_test,prediction, average='binary')))\n",
        "print(\"Recall {:.2f}\".format(recall_score(y_test,prediction, labels=[-1,1], average='micro')))\n",
        "plt.figure()\n",
        "#plot_confusion_matrix(model, X_test_scaled, y_test)\n",
        "plt.show()"
      ]
    },
    {
      "cell_type": "code",
      "execution_count": null,
      "metadata": {
        "id": "FVhdeNQkJffY"
      },
      "outputs": [],
      "source": [
        ""
      ]
    },
    {
      "cell_type": "code",
      "execution_count": null,
      "metadata": {
        "id": "WMoUNwe2JffZ"
      },
      "outputs": [],
      "source": [
        ""
      ]
    }
  ],
  "metadata": {
    "kernelspec": {
      "display_name": "Python 3",
      "language": "python",
      "name": "python3"
    },
    "language_info": {
      "codemirror_mode": {
        "name": "ipython",
        "version": 3
      },
      "file_extension": ".py",
      "mimetype": "text/x-python",
      "name": "python",
      "nbconvert_exporter": "python",
      "pygments_lexer": "ipython3",
      "version": "3.6.9"
    },
    "colab": {
      "name": "analysis_using_iqr_filtering_approach.ipynb",
      "provenance": []
    }
  },
  "nbformat": 4,
  "nbformat_minor": 0
}